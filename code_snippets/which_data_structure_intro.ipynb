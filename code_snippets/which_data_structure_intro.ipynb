{
 "cells": [
  {
   "cell_type": "code",
   "execution_count": 7,
   "id": "3fd0a418",
   "metadata": {},
   "outputs": [],
   "source": [
    "import numpy as np\n",
    "import pandas as pd"
   ]
  },
  {
   "cell_type": "code",
   "execution_count": 5,
   "id": "939dc877",
   "metadata": {
    "scrolled": false
   },
   "outputs": [],
   "source": [
    "sound_data = np.random.rand(100)"
   ]
  },
  {
   "cell_type": "code",
   "execution_count": 6,
   "id": "393d0261",
   "metadata": {},
   "outputs": [
    {
     "data": {
      "text/plain": [
       "array([0.66709183, 0.55973494, 0.95416669, 0.60810949, 0.05188879,\n",
       "       0.58619063, 0.25555136, 0.72451477, 0.2646681 , 0.08694215,\n",
       "       0.75592186, 0.67261696, 0.62847452, 0.06232598, 0.20549438,\n",
       "       0.11718457, 0.25184725, 0.48625729, 0.8103058 , 0.18100915,\n",
       "       0.81113341, 0.62055231, 0.9046905 , 0.56664205, 0.73235338,\n",
       "       0.74382869, 0.64856368, 0.80644398, 0.46199345, 0.78516632,\n",
       "       0.91298397, 0.48290914, 0.20847714, 0.99162659, 0.26374781,\n",
       "       0.3602381 , 0.07173351, 0.8584085 , 0.32248766, 0.39167573,\n",
       "       0.67944923, 0.00930429, 0.21714217, 0.58810089, 0.17668711,\n",
       "       0.57444803, 0.25760187, 0.43785728, 0.39119371, 0.68268063,\n",
       "       0.95954499, 0.45934239, 0.03616905, 0.23896063, 0.61872801,\n",
       "       0.76332531, 0.96272817, 0.57169277, 0.50225193, 0.01361629,\n",
       "       0.15357459, 0.8057233 , 0.0642748 , 0.95013941, 0.38712684,\n",
       "       0.97231498, 0.20261775, 0.74184693, 0.26629893, 0.84672705,\n",
       "       0.67662718, 0.96055977, 0.64942314, 0.66487937, 0.86867536,\n",
       "       0.40815661, 0.1139344 , 0.95638066, 0.87436447, 0.18407227,\n",
       "       0.64457074, 0.19233097, 0.24012179, 0.90399279, 0.39093908,\n",
       "       0.26389161, 0.97537645, 0.14209784, 0.75261696, 0.10078122,\n",
       "       0.87468408, 0.77990102, 0.92983283, 0.45841805, 0.61470669,\n",
       "       0.87939755, 0.09266009, 0.41177209, 0.46973971, 0.43152144])"
      ]
     },
     "execution_count": 6,
     "metadata": {},
     "output_type": "execute_result"
    }
   ],
   "source": [
    "sound_data"
   ]
  },
  {
   "cell_type": "code",
   "execution_count": null,
   "id": "480782a4",
   "metadata": {},
   "outputs": [],
   "source": [
    "synonyms = {\n",
    "    'hot': ['blazing', 'boiling', 'heated'],\n",
    "    'airplane': ['aircraft', 'airliner', \n",
    "                 'cab', 'jet', 'plane'],\n",
    "    'beach': ['coast', 'shore', 'waterfront'],\n",
    "    # ...\n",
    "}"
   ]
  },
  {
   "cell_type": "code",
   "execution_count": 8,
   "id": "57e60490",
   "metadata": {},
   "outputs": [],
   "source": [
    "import pandas as pd\n",
    "\n",
    "# Create the data manually\n",
    "data = {\n",
    "    \"first_name\": [\"John\", \"Jane\", \"Alice\", \"Bob\", \"Emma\"],\n",
    "    \"last_name\": [\"Doe\", \"Smith\", \"Johnson\", \"Brown\", \"Davis\"],\n",
    "    \"phone_nr\": [\"555-1234\", \"555-5678\", \"555-8765\", \"555-4321\", \"555-7890\"],\n",
    "    \"address\": [\"123 Maple St\", \"456 Oak St\", \"789 Pine St\", \"321 Birch St\", \"654 Elm St\"],\n",
    "    \"ZIP\": [\"12345\", \"67890\", \"54321\", \"09876\", \"11223\"],\n",
    "    \"city\": [\"Springfield\", \"Rivertown\", \"Lakeside\", \"Hilltop\", \"Greendale\"]\n",
    "}\n",
    "\n",
    "# Create a DataFrame\n",
    "phone_book = pd.DataFrame(data)\n"
   ]
  },
  {
   "cell_type": "code",
   "execution_count": 9,
   "id": "3229f265",
   "metadata": {},
   "outputs": [
    {
     "data": {
      "text/html": [
       "<div>\n",
       "<style scoped>\n",
       "    .dataframe tbody tr th:only-of-type {\n",
       "        vertical-align: middle;\n",
       "    }\n",
       "\n",
       "    .dataframe tbody tr th {\n",
       "        vertical-align: top;\n",
       "    }\n",
       "\n",
       "    .dataframe thead th {\n",
       "        text-align: right;\n",
       "    }\n",
       "</style>\n",
       "<table border=\"1\" class=\"dataframe\">\n",
       "  <thead>\n",
       "    <tr style=\"text-align: right;\">\n",
       "      <th></th>\n",
       "      <th>first_name</th>\n",
       "      <th>last_name</th>\n",
       "      <th>phone_nr</th>\n",
       "      <th>address</th>\n",
       "      <th>ZIP</th>\n",
       "      <th>city</th>\n",
       "    </tr>\n",
       "  </thead>\n",
       "  <tbody>\n",
       "    <tr>\n",
       "      <th>0</th>\n",
       "      <td>John</td>\n",
       "      <td>Doe</td>\n",
       "      <td>555-1234</td>\n",
       "      <td>123 Maple St</td>\n",
       "      <td>12345</td>\n",
       "      <td>Springfield</td>\n",
       "    </tr>\n",
       "    <tr>\n",
       "      <th>1</th>\n",
       "      <td>Jane</td>\n",
       "      <td>Smith</td>\n",
       "      <td>555-5678</td>\n",
       "      <td>456 Oak St</td>\n",
       "      <td>67890</td>\n",
       "      <td>Rivertown</td>\n",
       "    </tr>\n",
       "    <tr>\n",
       "      <th>2</th>\n",
       "      <td>Alice</td>\n",
       "      <td>Johnson</td>\n",
       "      <td>555-8765</td>\n",
       "      <td>789 Pine St</td>\n",
       "      <td>54321</td>\n",
       "      <td>Lakeside</td>\n",
       "    </tr>\n",
       "    <tr>\n",
       "      <th>3</th>\n",
       "      <td>Bob</td>\n",
       "      <td>Brown</td>\n",
       "      <td>555-4321</td>\n",
       "      <td>321 Birch St</td>\n",
       "      <td>09876</td>\n",
       "      <td>Hilltop</td>\n",
       "    </tr>\n",
       "    <tr>\n",
       "      <th>4</th>\n",
       "      <td>Emma</td>\n",
       "      <td>Davis</td>\n",
       "      <td>555-7890</td>\n",
       "      <td>654 Elm St</td>\n",
       "      <td>11223</td>\n",
       "      <td>Greendale</td>\n",
       "    </tr>\n",
       "  </tbody>\n",
       "</table>\n",
       "</div>"
      ],
      "text/plain": [
       "  first_name last_name  phone_nr       address    ZIP         city\n",
       "0       John       Doe  555-1234  123 Maple St  12345  Springfield\n",
       "1       Jane     Smith  555-5678    456 Oak St  67890    Rivertown\n",
       "2      Alice   Johnson  555-8765   789 Pine St  54321     Lakeside\n",
       "3        Bob     Brown  555-4321  321 Birch St  09876      Hilltop\n",
       "4       Emma     Davis  555-7890    654 Elm St  11223    Greendale"
      ]
     },
     "execution_count": 9,
     "metadata": {},
     "output_type": "execute_result"
    }
   ],
   "source": [
    "\n",
    "phone_book"
   ]
  },
  {
   "cell_type": "code",
   "execution_count": null,
   "id": "fb10020f",
   "metadata": {},
   "outputs": [],
   "source": []
  }
 ],
 "metadata": {
  "kernelspec": {
   "display_name": "Python 3 (ipykernel)",
   "language": "python",
   "name": "python3"
  },
  "language_info": {
   "codemirror_mode": {
    "name": "ipython",
    "version": 3
   },
   "file_extension": ".py",
   "mimetype": "text/x-python",
   "name": "python",
   "nbconvert_exporter": "python",
   "pygments_lexer": "ipython3",
   "version": "3.11.3"
  }
 },
 "nbformat": 4,
 "nbformat_minor": 5
}
