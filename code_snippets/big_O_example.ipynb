{
 "cells": [
  {
   "cell_type": "code",
   "execution_count": 1,
   "id": "f8575324",
   "metadata": {},
   "outputs": [
    {
     "data": {
      "text/plain": [
       "['apple', 'orange', 'banana']"
      ]
     },
     "execution_count": 1,
     "metadata": {},
     "output_type": "execute_result"
    }
   ],
   "source": [
    "words1 = ['apple', 'orange', 'banana', 'melon', 'peach']\n",
    "words2 = ['orange', 'kiwi', 'avocado', 'apple', 'banana']\n",
    "\n",
    "common = []\n",
    "for w in words1:\n",
    "    if w in words2:\n",
    "        common.append(w)\n",
    "\n",
    "common"
   ]
  },
  {
   "cell_type": "code",
   "execution_count": 17,
   "id": "bc766585",
   "metadata": {},
   "outputs": [
    {
     "data": {
      "text/plain": [
       "['apple', 'banana', 'orange']"
      ]
     },
     "execution_count": 17,
     "metadata": {},
     "output_type": "execute_result"
    }
   ],
   "source": [
    "words1 = ['apple', 'orange', 'banana', 'melon', 'peach']\n",
    "words2 = ['orange', 'kiwi', 'avocado', 'apple', 'banana']\n",
    "\n",
    "words1 = sorted(words1)\n",
    "words2 = sorted(words2)\n",
    "\n",
    "common = []\n",
    "idx2 = 0\n",
    "for w in words1:\n",
    "    while idx2 < len(words2) and words2[idx2] < w:\n",
    "        idx2 += 1\n",
    "        \n",
    "    if idx2 >= len(words2):\n",
    "        break\n",
    "        \n",
    "    if words2[idx2] == w:\n",
    "        common.append(w)\n",
    "\n",
    "common  "
   ]
  },
  {
   "cell_type": "code",
   "execution_count": 18,
   "id": "adb1576c",
   "metadata": {},
   "outputs": [
    {
     "name": "stdout",
     "output_type": "stream",
     "text": [
      "['apple', 'banana', 'melon', 'orange', 'peach']\n",
      "['apple', 'avocado', 'banana', 'kiwi', 'orange']\n"
     ]
    }
   ],
   "source": [
    "print(words1)\n",
    "print(words2)"
   ]
  },
  {
   "cell_type": "code",
   "execution_count": null,
   "id": "427defc3",
   "metadata": {},
   "outputs": [],
   "source": [
    "# ['apple', 'banana', 'melon', 'orange', 'peach']\n",
    "# ['apple', 'avocado', 'banana', 'kiwi', 'orange']"
   ]
  },
  {
   "cell_type": "code",
   "execution_count": 6,
   "id": "737d9391",
   "metadata": {},
   "outputs": [
    {
     "data": {
      "text/plain": [
       "['apple', 'orange', 'banana']"
      ]
     },
     "execution_count": 6,
     "metadata": {},
     "output_type": "execute_result"
    }
   ],
   "source": [
    "words1 = ['apple', 'orange', 'banana', 'melon', 'peach']\n",
    "words2 = ['orange', 'kiwi', 'avocado', 'apple', 'banana']\n",
    "\n",
    "words2 = set(words2)\n",
    "\n",
    "common = []\n",
    "for w in words1:\n",
    "    if w in words2:\n",
    "        common.append(w)\n",
    "\n",
    "common"
   ]
  },
  {
   "cell_type": "code",
   "execution_count": 5,
   "id": "2faeb104",
   "metadata": {},
   "outputs": [
    {
     "data": {
      "text/plain": [
       "{'apple', 'banana', 'orange'}"
      ]
     },
     "execution_count": 5,
     "metadata": {},
     "output_type": "execute_result"
    }
   ],
   "source": [
    "# or, alternatively:\n",
    "words1 = ['apple', 'orange', 'banana', 'melon', 'peach']\n",
    "words2 = ['orange', 'kiwi', 'avocado', 'apple', 'banana']\n",
    "\n",
    "words1 = set(words1)\n",
    "words2 = set(words2)\n",
    "common = words1.intersection(words2)\n",
    "\n",
    "common"
   ]
  },
  {
   "cell_type": "markdown",
   "id": "568be609",
   "metadata": {},
   "source": [
    "# Measure complexity"
   ]
  },
  {
   "cell_type": "code",
   "execution_count": 8,
   "id": "d6830ee5",
   "metadata": {},
   "outputs": [],
   "source": [
    "import random\n",
    "import string\n",
    "\n",
    "import big_o\n",
    "\n",
    "\n",
    "def random_string(length):\n",
    "    return ''.join(random.choices(string.ascii_uppercase, k=length))\n",
    "\n",
    "\n",
    "def two_loops(words1_words2):\n",
    "    # unpack tuple\n",
    "    words1, words2 = words1_words2\n",
    "\n",
    "    common = []\n",
    "    for w in words1:\n",
    "        if w in words2:\n",
    "            common.append(w)\n",
    "    return common\n",
    "\n",
    "\n",
    "def sorted_lists(words1_words2):\n",
    "    # unpack tuple\n",
    "    words1, words2 = words1_words2\n",
    "    \n",
    "    words1 = sorted(words1)\n",
    "    words2 = sorted(words2)\n",
    "\n",
    "    common = []\n",
    "    idx2 = 0\n",
    "    for w in words1:\n",
    "        while idx2 < len(words2) and words2[idx2] < w:\n",
    "            idx2 += 1\n",
    "\n",
    "        if idx2 >= len(words2):\n",
    "            break\n",
    "\n",
    "        if words2[idx2] == w:\n",
    "            common.append(w)\n",
    "            \n",
    "    return common\n",
    "        \n",
    "\n",
    "def sets(words1_words2):\n",
    "    # unpack tuple\n",
    "    words1, words2 = words1_words2\n",
    "\n",
    "    words2 = set(words2)\n",
    "\n",
    "    common = []\n",
    "    for w in words1:\n",
    "        if w in words2:\n",
    "            common.append(w)\n",
    "\n",
    "    return common\n",
    "\n",
    "\n",
    "def sets2(words1_words2):\n",
    "    # unpack tuple\n",
    "    words1, words2 = words1_words2\n",
    "    \n",
    "    words1 = set(words1)\n",
    "    words2 = set(words2)\n",
    "    return words1.intersection(words2)"
   ]
  },
  {
   "cell_type": "code",
   "execution_count": 10,
   "id": "f2905b76",
   "metadata": {},
   "outputs": [
    {
     "data": {
      "text/plain": [
       "(['apple', 'orange', 'banana'],\n",
       " ['apple', 'banana', 'orange'],\n",
       " ['apple', 'orange', 'banana'],\n",
       " {'apple', 'banana', 'orange'})"
      ]
     },
     "execution_count": 10,
     "metadata": {},
     "output_type": "execute_result"
    }
   ],
   "source": [
    "two_loops((words1, words2)), sorted_lists((words1, words2)), sets((words1, words2)), sets2((words1, words2))"
   ]
  },
  {
   "cell_type": "code",
   "execution_count": 11,
   "id": "c363b94c",
   "metadata": {},
   "outputs": [],
   "source": [
    "# Generator of inputs\n",
    "def lists_of_strings(n):\n",
    "    \"\"\" Return two lists of length `n` containing random strings. \"\"\"\n",
    "    words1 = [random_string(length=8) for _ in range(n)]\n",
    "    words2 = [random_string(length=8) for _ in range(n)]\n",
    "    return words1, words2"
   ]
  },
  {
   "cell_type": "code",
   "execution_count": 12,
   "id": "7fa2da4f",
   "metadata": {},
   "outputs": [
    {
     "name": "stdout",
     "output_type": "stream",
     "text": [
      "Best : Quadratic: time = 0.0088 + 5.7E-09*n^2 (sec)                 \n",
      "Constant: time = 0.21 (sec)                                     (res: 0.36)\n",
      "Linear: time = -0.081 + 5.8E-05*n (sec)                         (res: 0.025)\n",
      "Quadratic: time = 0.0088 + 5.7E-09*n^2 (sec)                    (res: 0.00086)\n",
      "Cubic: time = 0.052 + 5.7E-13*n^3 (sec)                         (res: 0.011)\n",
      "Polynomial: time = 4.5E-08 * x^1.8 (sec)                        (res: 0.0016)\n",
      "Logarithmic: time = -0.62 + 0.1*log(n) (sec)                    (res: 0.18)\n",
      "Linearithmic: time = -0.065 + 6.2E-06*n*log(n) (sec)            (res: 0.018)\n",
      "Exponential: time = 0.0033 * 1^n (sec)                          (res: 1.1)\n",
      "\n"
     ]
    }
   ],
   "source": [
    "best, others = big_o.big_o(two_loops, lists_of_strings, max_n=10**4)\n",
    "print(big_o.reports.big_o_report(best, others))"
   ]
  },
  {
   "cell_type": "code",
   "execution_count": 13,
   "id": "03d80d31",
   "metadata": {},
   "outputs": [
    {
     "name": "stdout",
     "output_type": "stream",
     "text": [
      "Best : Linearithmic: time = -0.00029 + 3.9E-08*n*log(n) (sec)       \n",
      "Constant: time = 0.021 (sec)                                    (res: 0.0021)\n",
      "Linear: time = -0.0013 + 4.5E-07*n (sec)                        (res: 2.8E-05)\n",
      "Quadratic: time = 0.0062 + 4.3E-12*n^2 (sec)                    (res: 8.8E-05)\n",
      "Cubic: time = 0.0097 + 4.2E-17*n^3 (sec)                        (res: 0.00024)\n",
      "Polynomial: time = 1.8E-07 * x^1.1 (sec)                        (res: 2.2E-05)\n",
      "Logarithmic: time = -0.034 + 0.0054*log(n) (sec)                (res: 0.00099)\n",
      "Linearithmic: time = -0.00029 + 3.9E-08*n*log(n) (sec)          (res: 2E-05)\n",
      "Exponential: time = 0.0008 * 1^n (sec)                          (res: 0.0066)\n",
      "\n"
     ]
    }
   ],
   "source": [
    "best, others = big_o.big_o(sorted_lists, lists_of_strings, max_n=10**5)\n",
    "print(big_o.reports.big_o_report(best, others))"
   ]
  },
  {
   "cell_type": "code",
   "execution_count": 14,
   "id": "60c7c4ba",
   "metadata": {},
   "outputs": [
    {
     "name": "stdout",
     "output_type": "stream",
     "text": [
      "Best : Linear: time = -0.00034 + 7.8E-08*n (sec)                    \n",
      "Constant: time = 0.0035 (sec)                                   (res: 6.2E-05)\n",
      "Linear: time = -0.00034 + 7.8E-08*n (sec)                       (res: 1E-06)\n",
      "Quadratic: time = 0.00093 + 7.4E-13*n^2 (sec)                   (res: 1.6E-06)\n",
      "Cubic: time = 0.0015 + 7.3E-18*n^3 (sec)                        (res: 5.8E-06)\n",
      "Polynomial: time = 9.8E-08 * x^0.97 (sec)                       (res: 2.6E-06)\n",
      "Logarithmic: time = -0.0057 + 0.00091*log(n) (sec)              (res: 3.1E-05)\n",
      "Linearithmic: time = -0.00016 + 6.7E-09*n*log(n) (sec)          (res: 6.6E-07)\n",
      "Exponential: time = 0.00017 * 1^n (sec)                         (res: 0.00013)\n",
      "\n"
     ]
    }
   ],
   "source": [
    "best, others = big_o.big_o(sets, lists_of_strings, max_n=10**5)\n",
    "print(big_o.reports.big_o_report(best, others))"
   ]
  },
  {
   "cell_type": "code",
   "execution_count": 15,
   "id": "18414af2",
   "metadata": {},
   "outputs": [
    {
     "name": "stdout",
     "output_type": "stream",
     "text": [
      "Best : Linear: time = -2.2E-06 + 9.5E-08*n (sec)                    \n",
      "Constant: time = 0.0047 (sec)                                   (res: 9.8E-05)\n",
      "Linear: time = -2.2E-06 + 9.5E-08*n (sec)                       (res: 6.7E-06)\n",
      "Quadratic: time = 0.0015 + 9.2E-13*n^2 (sec)                    (res: 5.8E-06)\n",
      "Cubic: time = 0.0022 + 9.1E-18*n^3 (sec)                        (res: 1E-05)\n",
      "Polynomial: time = 6.5E-07 * x^0.82 (sec)                       (res: 9.8E-06)\n",
      "Logarithmic: time = -0.0069 + 0.0012*log(n) (sec)               (res: 4.8E-05)\n",
      "Linearithmic: time = 0.00021 + 8.2E-09*n*log(n) (sec)           (res: 6.1E-06)\n",
      "Exponential: time = 0.00039 * 1^n (sec)                         (res: 0.0001)\n",
      "\n"
     ]
    }
   ],
   "source": [
    "best, others = big_o.big_o(sets2, lists_of_strings, max_n=10**5)\n",
    "print(big_o.reports.big_o_report(best, others))"
   ]
  },
  {
   "cell_type": "code",
   "execution_count": 16,
   "id": "ab097411",
   "metadata": {},
   "outputs": [],
   "source": [
    "best, others_two_loops = big_o.big_o(two_loops, lists_of_strings, max_n=10**3, return_raw_data=True)\n",
    "best, others_sorted_lists = big_o.big_o(sorted_lists, lists_of_strings, max_n=10**5, return_raw_data=True)\n",
    "best, others_sets = big_o.big_o(sets, lists_of_strings, max_n=10**5, return_raw_data=True)"
   ]
  },
  {
   "cell_type": "code",
   "execution_count": null,
   "id": "ff78492b",
   "metadata": {},
   "outputs": [],
   "source": []
  }
 ],
 "metadata": {
  "kernelspec": {
   "display_name": "Python 3 (ipykernel)",
   "language": "python",
   "name": "python3"
  },
  "language_info": {
   "codemirror_mode": {
    "name": "ipython",
    "version": 3
   },
   "file_extension": ".py",
   "mimetype": "text/x-python",
   "name": "python",
   "nbconvert_exporter": "python",
   "pygments_lexer": "ipython3",
   "version": "3.11.3"
  }
 },
 "nbformat": 4,
 "nbformat_minor": 5
}
