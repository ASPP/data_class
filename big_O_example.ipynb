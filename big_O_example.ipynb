{
 "cells": [
  {
   "cell_type": "code",
   "execution_count": 115,
   "id": "f8575324",
   "metadata": {},
   "outputs": [
    {
     "data": {
      "text/plain": [
       "['apple', 'orange', 'banana']"
      ]
     },
     "execution_count": 115,
     "metadata": {},
     "output_type": "execute_result"
    }
   ],
   "source": [
    "words1 = ['apple', 'orange', 'banana', 'melon', 'peach']\n",
    "words2 = ['orange', 'kiwi', 'avocado', 'apple', 'banana']\n",
    "\n",
    "common = []\n",
    "for w in words1:\n",
    "    if w in words2:\n",
    "        common.append(w)\n",
    "\n",
    "common"
   ]
  },
  {
   "cell_type": "code",
   "execution_count": 116,
   "id": "bc766585",
   "metadata": {},
   "outputs": [
    {
     "data": {
      "text/plain": [
       "['apple', 'banana', 'orange']"
      ]
     },
     "execution_count": 116,
     "metadata": {},
     "output_type": "execute_result"
    }
   ],
   "source": [
    "words1 = ['apple', 'orange', 'banana', 'melon', 'peach']\n",
    "words2 = ['orange', 'kiwi', 'avocado', 'apple', 'banana']\n",
    "\n",
    "words1 = sorted(words1)\n",
    "words2 = sorted(words2)\n",
    "\n",
    "common = []\n",
    "idx2 = 0\n",
    "for w in words1:\n",
    "    while idx2 < len(words2) and words2[idx2] < w:\n",
    "        idx2 += 1\n",
    "        \n",
    "    if idx2 >= len(words2):\n",
    "        break\n",
    "        \n",
    "    if words2[idx2] == w:\n",
    "        common.append(w)\n",
    "\n",
    "common  "
   ]
  },
  {
   "cell_type": "code",
   "execution_count": 117,
   "id": "737d9391",
   "metadata": {},
   "outputs": [
    {
     "data": {
      "text/plain": [
       "{'apple', 'banana', 'orange'}"
      ]
     },
     "execution_count": 117,
     "metadata": {},
     "output_type": "execute_result"
    }
   ],
   "source": [
    "words1 = ['apple', 'orange', 'banana', 'melon', 'peach']\n",
    "words2 = ['orange', 'kiwi', 'avocado', 'apple', 'banana']\n",
    "\n",
    "words1 = set(words1)\n",
    "words2 = set(words2)\n",
    "common = words1.intersection(words2)\n",
    "\n",
    "common"
   ]
  },
  {
   "cell_type": "markdown",
   "id": "568be609",
   "metadata": {},
   "source": [
    "# Measure complexity"
   ]
  },
  {
   "cell_type": "code",
   "execution_count": 79,
   "id": "d6830ee5",
   "metadata": {},
   "outputs": [],
   "source": [
    "import random\n",
    "import string\n",
    "\n",
    "import big_o\n",
    "\n",
    "\n",
    "def random_string(length):\n",
    "    return ''.join(random.choices(string.ascii_uppercase, k=length))\n",
    "\n",
    "\n",
    "def two_loops(words1_words2):\n",
    "    # unpack tuple\n",
    "    words1, words2 = words1_words2\n",
    "\n",
    "    common = []\n",
    "    for w in words1:\n",
    "        if w in words2:\n",
    "            common.append(w)\n",
    "    return common\n",
    "\n",
    "\n",
    "def sorted_lists(words1_words2):\n",
    "    # unpack tuple\n",
    "    words1, words2 = words1_words2\n",
    "    \n",
    "    words1 = sorted(words1)\n",
    "    words2 = sorted(words2)\n",
    "\n",
    "    common = []\n",
    "    idx2 = 0\n",
    "    for w in words1:\n",
    "        while idx2 < len(words2) and words2[idx2] < w:\n",
    "            idx2 += 1\n",
    "\n",
    "        if idx2 >= len(words2):\n",
    "            break\n",
    "\n",
    "        if words2[idx2] == w:\n",
    "            common.append(w)\n",
    "            \n",
    "    return common\n",
    "        \n",
    "    \n",
    "def sets(words1_words2):\n",
    "    # unpack tuple\n",
    "    words1, words2 = words1_words2\n",
    "    \n",
    "    words1 = set(words1)\n",
    "    words2 = set(words2)\n",
    "    return words1.intersection(words2)"
   ]
  },
  {
   "cell_type": "code",
   "execution_count": 81,
   "id": "f2905b76",
   "metadata": {},
   "outputs": [
    {
     "data": {
      "text/plain": [
       "(['apple', 'banana', 'orange'],\n",
       " ['apple', 'banana', 'orange'],\n",
       " {'apple', 'banana', 'orange'})"
      ]
     },
     "execution_count": 81,
     "metadata": {},
     "output_type": "execute_result"
    }
   ],
   "source": [
    "two_loops((words1, words2)), sorted_lists((words1, words2)), sets((words1, words2))"
   ]
  },
  {
   "cell_type": "code",
   "execution_count": null,
   "id": "975fdafe",
   "metadata": {},
   "outputs": [],
   "source": []
  },
  {
   "cell_type": "code",
   "execution_count": 82,
   "id": "c363b94c",
   "metadata": {},
   "outputs": [],
   "source": [
    "# Generator of inputs\n",
    "def lists_of_strings(n):\n",
    "    \"\"\" Return two lists of length `n` containing random strings. \"\"\"\n",
    "    words1 = [random_string(length=8) for _ in range(n)]\n",
    "    words2 = [random_string(length=8) for _ in range(n)]\n",
    "    return words1, words2"
   ]
  },
  {
   "cell_type": "code",
   "execution_count": 88,
   "id": "7fa2da4f",
   "metadata": {},
   "outputs": [
    {
     "name": "stdout",
     "output_type": "stream",
     "text": [
      "Best : Quadratic: time = 0.0065 + 5.7E-09*n^2 (sec)                 \n",
      "Constant: time = 0.21 (sec)                                     (res: 0.35)\n",
      "Linear: time = -0.081 + 5.7E-05*n (sec)                         (res: 0.026)\n",
      "Quadratic: time = 0.0065 + 5.7E-09*n^2 (sec)                    (res: 0.0003)\n",
      "Cubic: time = 0.049 + 5.7E-13*n^3 (sec)                         (res: 0.009)\n",
      "Polynomial: time = 5.1E-08 * x^1.8 (sec)                        (res: 0.0019)\n",
      "Logarithmic: time = -0.61 + 0.1*log(n) (sec)                    (res: 0.18)\n",
      "Linearithmic: time = -0.066 + 6.2E-06*n*log(n) (sec)            (res: 0.02)\n",
      "Exponential: time = 0.0034 * 1^n (sec)                          (res: 1)\n",
      "\n"
     ]
    }
   ],
   "source": [
    "best, others = big_o.big_o(two_loops, lists_of_strings, max_n=10**4)\n",
    "print(big_o.reports.big_o_report(best, others))"
   ]
  },
  {
   "cell_type": "code",
   "execution_count": 89,
   "id": "03d80d31",
   "metadata": {},
   "outputs": [
    {
     "name": "stdout",
     "output_type": "stream",
     "text": [
      "Best : Linearithmic: time = 0.0015 + 3.6E-08*n*log(n) (sec)         \n",
      "Constant: time = 0.021 (sec)                                    (res: 0.0018)\n",
      "Linear: time = 0.00053 + 4.2E-07*n (sec)                        (res: 1.2E-05)\n",
      "Quadratic: time = 0.0076 + 3.9E-12*n^2 (sec)                    (res: 9.8E-05)\n",
      "Cubic: time = 0.011 + 3.8E-17*n^3 (sec)                         (res: 0.00025)\n",
      "Polynomial: time = 9.2E-07 * x^0.93 (sec)                       (res: 1.6E-05)\n",
      "Logarithmic: time = -0.031 + 0.0052*log(n) (sec)                (res: 0.00075)\n",
      "Linearithmic: time = 0.0015 + 3.6E-08*n*log(n) (sec)            (res: 1E-05)\n",
      "Exponential: time = 0.0013 * 1^n (sec)                          (res: 0.0038)\n",
      "\n"
     ]
    }
   ],
   "source": [
    "best, others = big_o.big_o(sorted_lists, lists_of_strings, max_n=10**5)\n",
    "print(big_o.reports.big_o_report(best, others))"
   ]
  },
  {
   "cell_type": "code",
   "execution_count": 90,
   "id": "60c7c4ba",
   "metadata": {},
   "outputs": [
    {
     "name": "stdout",
     "output_type": "stream",
     "text": [
      "Best : Linear: time = -0.00011 + 9.4E-08*n (sec)                    \n",
      "Constant: time = 0.0046 (sec)                                   (res: 9.4E-05)\n",
      "Linear: time = -0.00011 + 9.4E-08*n (sec)                       (res: 4.3E-06)\n",
      "Quadratic: time = 0.0014 + 9E-13*n^2 (sec)                      (res: 3.8E-06)\n",
      "Cubic: time = 0.0021 + 8.9E-18*n^3 (sec)                        (res: 8.4E-06)\n",
      "Polynomial: time = 6.8E-07 * x^0.82 (sec)                       (res: 8.4E-06)\n",
      "Logarithmic: time = -0.0068 + 0.0011*log(n) (sec)               (res: 4.5E-05)\n",
      "Linearithmic: time = 9.8E-05 + 8.1E-09*n*log(n) (sec)           (res: 3.8E-06)\n",
      "Exponential: time = 0.00037 * 1^n (sec)                         (res: 9.4E-05)\n",
      "\n"
     ]
    }
   ],
   "source": [
    "best, others = big_o.big_o(sets, lists_of_strings, max_n=10**5)\n",
    "print(big_o.reports.big_o_report(best, others))"
   ]
  },
  {
   "cell_type": "code",
   "execution_count": 106,
   "id": "ab097411",
   "metadata": {},
   "outputs": [],
   "source": [
    "best, others_two_loops = big_o.big_o(two_loops, lists_of_strings, max_n=10**3, return_raw_data=True)\n",
    "best, others_sorted_lists = big_o.big_o(sorted_lists, lists_of_strings, max_n=10**5, return_raw_data=True)\n",
    "best, others_sets = big_o.big_o(sets, lists_of_strings, max_n=10**5, return_raw_data=True)"
   ]
  },
  {
   "cell_type": "code",
   "execution_count": null,
   "id": "ff78492b",
   "metadata": {},
   "outputs": [],
   "source": []
  }
 ],
 "metadata": {
  "kernelspec": {
   "display_name": "Python 3 (ipykernel)",
   "language": "python",
   "name": "python3"
  },
  "language_info": {
   "codemirror_mode": {
    "name": "ipython",
    "version": 3
   },
   "file_extension": ".py",
   "mimetype": "text/x-python",
   "name": "python",
   "nbconvert_exporter": "python",
   "pygments_lexer": "ipython3",
   "version": "3.11.3"
  }
 },
 "nbformat": 4,
 "nbformat_minor": 5
}
