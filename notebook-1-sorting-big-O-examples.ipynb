{
 "cells": [
  {
   "cell_type": "code",
   "execution_count": 8,
   "id": "8685ea3a",
   "metadata": {
    "slideshow": {
     "slide_type": "slide"
    }
   },
   "outputs": [],
   "source": [
    "import numpy\n"
   ]
  },
  {
   "attachments": {},
   "cell_type": "markdown",
   "id": "048881d0",
   "metadata": {
    "slideshow": {
     "slide_type": "slide"
    }
   },
   "source": [
    "# Example: Find common words"
   ]
  },
  {
   "attachments": {},
   "cell_type": "markdown",
   "id": "2464a282",
   "metadata": {
    "slideshow": {
     "slide_type": "fragment"
    }
   },
   "source": [
    "Problem: given two lists of words, extract all the words that are in common"
   ]
  },
  {
   "attachments": {},
   "cell_type": "markdown",
   "id": "71740eab",
   "metadata": {
    "slideshow": {
     "slide_type": "slide"
    }
   },
   "source": [
    "# Implementation with 2x for-loops"
   ]
  },
  {
   "cell_type": "code",
   "execution_count": 9,
   "id": "f175c775",
   "metadata": {
    "slideshow": {
     "slide_type": "fragment"
    }
   },
   "outputs": [],
   "source": [
    "words1 = ['apple', 'orange', 'banana', 'melon', 'peach']\n",
    "words2 = ['orange', 'kiwi', 'avocado', 'apple', 'banana']\n",
    "\n",
    "common_for = []\n",
    "for w in words1:\n",
    "    if w in words2:\n",
    "        common_for.append(w)"
   ]
  },
  {
   "cell_type": "code",
   "execution_count": 10,
   "id": "2a61bf38",
   "metadata": {
    "slideshow": {
     "slide_type": "fragment"
    }
   },
   "outputs": [
    {
     "name": "stdout",
     "output_type": "stream",
     "text": [
      "['apple', 'orange', 'banana']\n"
     ]
    }
   ],
   "source": [
    "print(common)"
   ]
  },
  {
   "attachments": {},
   "cell_type": "markdown",
   "id": "38e47397",
   "metadata": {
    "slideshow": {
     "slide_type": "fragment"
    }
   },
   "source": [
    "What is the big-O complexity of this implementation? "
   ]
  },
  {
   "cell_type": "markdown",
   "id": "4118b38d",
   "metadata": {
    "slideshow": {
     "slide_type": "fragment"
    }
   },
   "source": [
    "n * n ~ O(n<sup>2</sup>)"
   ]
  },
  {
   "cell_type": "markdown",
   "id": "31cd0e74",
   "metadata": {
    "slideshow": {
     "slide_type": "slide"
    }
   },
   "source": [
    "# Implementation with sorted lists"
   ]
  },
  {
   "cell_type": "code",
   "execution_count": 14,
   "id": "c13a24f4",
   "metadata": {
    "slideshow": {
     "slide_type": "fragment"
    }
   },
   "outputs": [],
   "source": [
    "words1 = ['apple', 'orange', 'banana', 'melon', 'peach']\n",
    "words2 = ['orange', 'kiwi', 'avocado', 'apple', 'banana']\n",
    "\n",
    "words1 = sorted(words1)\n",
    "words2 = sorted(words2)\n",
    "\n",
    "common_sort_list = []\n",
    "idx2 = 0\n",
    "for w in words1:\n",
    "    while idx2 < len(words2) and words2[idx2] < w:\n",
    "        idx2 += 1\n",
    "        \n",
    "    if idx2 >= len(words2):\n",
    "        break\n",
    "        \n",
    "    if words2[idx2] == w:\n",
    "        common_sort_list.append(w)"
   ]
  },
  {
   "cell_type": "code",
   "execution_count": 11,
   "id": "8ce798ab",
   "metadata": {
    "slideshow": {
     "slide_type": "fragment"
    }
   },
   "outputs": [
    {
     "ename": "NameError",
     "evalue": "name 'common_sort_list' is not defined",
     "output_type": "error",
     "traceback": [
      "\u001b[0;31m---------------------------------------------------------------------------\u001b[0m",
      "\u001b[0;31mNameError\u001b[0m                                 Traceback (most recent call last)",
      "Input \u001b[0;32mIn [11]\u001b[0m, in \u001b[0;36m<cell line: 1>\u001b[0;34m()\u001b[0m\n\u001b[0;32m----> 1\u001b[0m \u001b[38;5;28mprint\u001b[39m(\u001b[43mcommon_sort_list\u001b[49m)\n",
      "\u001b[0;31mNameError\u001b[0m: name 'common_sort_list' is not defined"
     ]
    }
   ],
   "source": [
    "print(common_sort_list)"
   ]
  },
  {
   "attachments": {},
   "cell_type": "markdown",
   "id": "1da4c22f",
   "metadata": {
    "slideshow": {
     "slide_type": "fragment"
    }
   },
   "source": [
    "What is the big-O complexity of this implementation? "
   ]
  },
  {
   "attachments": {},
   "cell_type": "markdown",
   "id": "4b068a1b",
   "metadata": {
    "slideshow": {
     "slide_type": "fragment"
    }
   },
   "source": [
    "2 * sorting + traversing two lists = 2*n log<sub>2</sub> + 2*n  ~  O(n * log<sub>n</sub>)"
   ]
  },
  {
   "cell_type": "markdown",
   "id": "13c96239",
   "metadata": {
    "slideshow": {
     "slide_type": "slide"
    }
   },
   "source": [
    "# Implementation with sets"
   ]
  },
  {
   "cell_type": "code",
   "execution_count": 12,
   "id": "61edb9f3",
   "metadata": {
    "slideshow": {
     "slide_type": "fragment"
    }
   },
   "outputs": [],
   "source": [
    "words1 = ['apple', 'orange', 'banana', 'melon', 'peach']\n",
    "words2 = ['orange', 'kiwi', 'avocado', 'apple', 'banana']\n",
    "\n",
    "words2 = set(words2)\n",
    "\n",
    "common_sets = []\n",
    "for w in words1:\n",
    "    if w in words2:\n",
    "        common_sets.append(w)"
   ]
  },
  {
   "cell_type": "code",
   "execution_count": 13,
   "id": "c90d8e68",
   "metadata": {
    "slideshow": {
     "slide_type": "fragment"
    }
   },
   "outputs": [
    {
     "ename": "NameError",
     "evalue": "name 'sommon_sets' is not defined",
     "output_type": "error",
     "traceback": [
      "\u001b[0;31m---------------------------------------------------------------------------\u001b[0m",
      "\u001b[0;31mNameError\u001b[0m                                 Traceback (most recent call last)",
      "Input \u001b[0;32mIn [13]\u001b[0m, in \u001b[0;36m<cell line: 1>\u001b[0;34m()\u001b[0m\n\u001b[0;32m----> 1\u001b[0m \u001b[38;5;28mprint\u001b[39m(\u001b[43msommon_sets\u001b[49m)\n",
      "\u001b[0;31mNameError\u001b[0m: name 'sommon_sets' is not defined"
     ]
    }
   ],
   "source": [
    "print(common_sets)"
   ]
  },
  {
   "cell_type": "markdown",
   "id": "c9780532",
   "metadata": {
    "slideshow": {
     "slide_type": "fragment"
    }
   },
   "source": [
    "What is the big-O complexity of this implementation? "
   ]
  },
  {
   "attachments": {},
   "cell_type": "markdown",
   "id": "297bcd7d",
   "metadata": {
    "slideshow": {
     "slide_type": "fragment"
    }
   },
   "source": [
    "transforming one list to set  + 1 for loop  = 2 * n ~  O(n)\n",
    "\n",
    "It’s the exact same code as for lists, but now looking up an element in sets \u000b",
    "(if w in words2) takes constant time!\n",
    "How could you have known that set lookup is fast? Learning about data structures!"
   ]
  },
  {
   "cell_type": "markdown",
   "id": "1adabb25",
   "metadata": {
    "slideshow": {
     "slide_type": "slide"
    }
   },
   "source": [
    "Summary\n",
    "\n",
    "![Image of Yaktocat](https://miro.medium.com/v2/resize:fit:1400/format:webp/1*FkQzWqqIMlAHZ_xNrEPKeA.png)\n",
    "                \n",
    "                "
   ]
  },
  {
   "cell_type": "code",
   "execution_count": null,
   "id": "315f70a5",
   "metadata": {},
   "outputs": [],
   "source": []
  }
 ],
 "metadata": {
  "celltoolbar": "Slideshow",
  "kernelspec": {
   "display_name": "Python 3 (ipykernel)",
   "language": "python",
   "name": "python3"
  },
  "language_info": {
   "codemirror_mode": {
    "name": "ipython",
    "version": 3
   },
   "file_extension": ".py",
   "mimetype": "text/x-python",
   "name": "python",
   "nbconvert_exporter": "python",
   "pygments_lexer": "ipython3",
   "version": "3.9.12"
  }
 },
 "nbformat": 4,
 "nbformat_minor": 5
}
