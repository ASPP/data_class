{
 "cells": [
  {
   "cell_type": "markdown",
   "id": "373ed1db",
   "metadata": {},
   "source": [
    "# Exercise: Match the tarot cards!\n",
    "\n",
    "Given 2 decks of tarot cards, `deck1` and `deck2`, find all the matching pairs. The output should be a set of tuples `(idx1, idx2)` for every matching pair in `deck1`, `deck2`.\n",
    "\n",
    "For example:\n",
    "```\n",
    "deck1 = ['C', 'B', 'A']\n",
    "deck2 = ['A', 'C', 'B']\n",
    "```\n",
    "\n",
    "should return (in no particular order):\n",
    "\n",
    "```\n",
    "{(0, 1), (1, 2), (2, 0)}\n",
    "```\n",
    "\n",
    "1. Write an algorithm to match the tarot cards\n",
    "2. Compute the Big-O complexity of your algorithm\n"
   ]
  },
  {
   "cell_type": "code",
   "execution_count": 2,
   "id": "cf05b9c4",
   "metadata": {},
   "outputs": [
    {
     "name": "stdout",
     "output_type": "stream",
     "text": [
      "-- Deck 1: --\n",
      " ['The Hierophant', 'Temperance', 'The Hermit', 'The Tower', 'The Star', 'Judgement', 'The Chariot', 'Justice', 'Strength', 'The Moon', 'The Emperor', 'The Magician', 'The High Priestess', 'The Lovers', 'Wheel of Fortune', 'The Hanged Man', 'The Fool', 'The Empress', 'Death', 'The World', 'The Sun', 'The Devil']\n",
      "-- Deck 2: --\n",
      " ['The Empress', 'The Emperor', 'The Hierophant', 'Strength', 'The Hermit', 'The Moon', 'The Sun', 'The Fool', 'The Magician', 'The Star', 'The Tower', 'Judgement', 'The Hanged Man', 'The Devil', 'The Chariot', 'The World', 'The High Priestess', 'The Lovers', 'Wheel of Fortune', 'Justice', 'Death', 'Temperance']\n"
     ]
    }
   ],
   "source": [
    "import random\n",
    "\n",
    "# List of tarot card names (Major Arcana)\n",
    "tarot_cards = [\n",
    "    \"The Fool\", \"The Magician\", \"The High Priestess\", \"The Empress\", \"The Emperor\",\n",
    "    \"The Hierophant\", \"The Lovers\", \"The Chariot\", \"Strength\", \"The Hermit\",\n",
    "    \"Wheel of Fortune\", \"Justice\", \"The Hanged Man\", \"Death\", \"Temperance\",\n",
    "    \"The Devil\", \"The Tower\", \"The Star\", \"The Moon\", \"The Sun\", \"Judgement\",\n",
    "    \"The World\"\n",
    "]\n",
    "\n",
    "# Copy the list to create two separate decks\n",
    "deck1 = tarot_cards.copy()\n",
    "deck2 = tarot_cards.copy()\n",
    "\n",
    "# Shuffle both decks\n",
    "random.shuffle(deck1)\n",
    "random.shuffle(deck2)\n",
    "\n",
    "# Print the shuffled decks\n",
    "print(\"-- Deck 1: --\\n\", deck1)\n",
    "print(\"-- Deck 2: --\\n\", deck2)"
   ]
  },
  {
   "cell_type": "markdown",
   "id": "3db3f337",
   "metadata": {},
   "source": [
    "# Simplest implementation: O(N^2)"
   ]
  },
  {
   "cell_type": "code",
   "execution_count": 3,
   "id": "319ef6a9",
   "metadata": {},
   "outputs": [
    {
     "data": {
      "text/plain": [
       "{(0, 2),\n",
       " (1, 21),\n",
       " (2, 4),\n",
       " (3, 10),\n",
       " (4, 9),\n",
       " (5, 11),\n",
       " (6, 14),\n",
       " (7, 19),\n",
       " (8, 3),\n",
       " (9, 5),\n",
       " (10, 1),\n",
       " (11, 8),\n",
       " (12, 16),\n",
       " (13, 17),\n",
       " (14, 18),\n",
       " (15, 12),\n",
       " (16, 7),\n",
       " (17, 0),\n",
       " (18, 20),\n",
       " (19, 15),\n",
       " (20, 6),\n",
       " (21, 13)}"
      ]
     },
     "execution_count": 3,
     "metadata": {},
     "output_type": "execute_result"
    }
   ],
   "source": [
    "matches = set()\n",
    "for idx1, card in enumerate(deck1):  # O(N)\n",
    "    match = (idx1, deck2.index(card))  # O(N)\n",
    "    matches.add(match)\n",
    "    \n",
    "matches"
   ]
  },
  {
   "cell_type": "markdown",
   "id": "3264eb67",
   "metadata": {},
   "source": [
    "# Faster solution: O(N log N)"
   ]
  },
  {
   "cell_type": "code",
   "execution_count": 7,
   "id": "c768a7c2",
   "metadata": {},
   "outputs": [
    {
     "data": {
      "text/plain": [
       "{(0, 2),\n",
       " (1, 21),\n",
       " (2, 4),\n",
       " (3, 10),\n",
       " (4, 9),\n",
       " (5, 11),\n",
       " (6, 14),\n",
       " (7, 19),\n",
       " (8, 3),\n",
       " (9, 5),\n",
       " (10, 1),\n",
       " (11, 8),\n",
       " (12, 16),\n",
       " (13, 17),\n",
       " (14, 18),\n",
       " (15, 12),\n",
       " (16, 7),\n",
       " (17, 0),\n",
       " (18, 20),\n",
       " (19, 15),\n",
       " (20, 6),\n",
       " (21, 13)}"
      ]
     },
     "execution_count": 7,
     "metadata": {},
     "output_type": "execute_result"
    }
   ],
   "source": [
    "# Create a list of (tarot_card, idx), and sort it. This is kind of equivalent to np.argsort\n",
    "n_cards = len(deck1)\n",
    "sorted_deck1 = sorted((deck1[idx], idx) for idx in range(n_cards))  # O(N log N)\n",
    "sorted_deck2 = sorted((deck2[idx], idx) for idx in range(n_cards))  # O(N log N)\n",
    "\n",
    "matches = set()\n",
    "for idx in range(n_cards):  # O(N)\n",
    "    matches.add((sorted_deck1[idx][1], sorted_deck2[idx][1]))  # O(1)\n",
    "    \n",
    "matches"
   ]
  },
  {
   "cell_type": "markdown",
   "id": "5099970a",
   "metadata": {},
   "source": [
    "# 3. Fastest solution: O(N)"
   ]
  },
  {
   "cell_type": "code",
   "execution_count": 8,
   "id": "7685740c",
   "metadata": {},
   "outputs": [
    {
     "data": {
      "text/plain": [
       "{(0, 2),\n",
       " (1, 21),\n",
       " (2, 4),\n",
       " (3, 10),\n",
       " (4, 9),\n",
       " (5, 11),\n",
       " (6, 14),\n",
       " (7, 19),\n",
       " (8, 3),\n",
       " (9, 5),\n",
       " (10, 1),\n",
       " (11, 8),\n",
       " (12, 16),\n",
       " (13, 17),\n",
       " (14, 18),\n",
       " (15, 12),\n",
       " (16, 7),\n",
       " (17, 0),\n",
       " (18, 20),\n",
       " (19, 15),\n",
       " (20, 6),\n",
       " (21, 13)}"
      ]
     },
     "execution_count": 8,
     "metadata": {},
     "output_type": "execute_result"
    }
   ],
   "source": [
    "# Initialize a dictionary, mapping card name to the two indices\n",
    "card_to_matches = {}\n",
    "for card in deck1:  # O(N)\n",
    "    card_to_matches[card] = [None, None]  # O(1)\n",
    "\n",
    "# Traverse the first deck, and note the index in the dictionary\n",
    "for idx1, card in enumerate(deck1):  # O(N)\n",
    "    card_to_matches[card][0] = idx1  # O(1)\n",
    "    \n",
    "# Traverse the second deck, and note the index in the dictionary\n",
    "for idx2, card in enumerate(deck2):  # O(N)\n",
    "    card_to_matches[card][1] = idx2  # O(1)\n",
    "    \n",
    "# Transform into a set of tuples\n",
    "set(tuple((indices[0], indices[1]) for indices in card_to_matches.values()))  # O(N)"
   ]
  },
  {
   "cell_type": "markdown",
   "id": "83c53b82",
   "metadata": {},
   "source": []
  },
  {
   "cell_type": "code",
   "execution_count": null,
   "id": "509dda71",
   "metadata": {},
   "outputs": [],
   "source": []
  }
 ],
 "metadata": {
  "kernelspec": {
   "display_name": "Python 3 (ipykernel)",
   "language": "python",
   "name": "python3"
  },
  "language_info": {
   "codemirror_mode": {
    "name": "ipython",
    "version": 3
   },
   "file_extension": ".py",
   "mimetype": "text/x-python",
   "name": "python",
   "nbconvert_exporter": "python",
   "pygments_lexer": "ipython3",
   "version": "3.11.3"
  }
 },
 "nbformat": 4,
 "nbformat_minor": 5
}
