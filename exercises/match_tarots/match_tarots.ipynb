{
 "cells": [
  {
   "cell_type": "markdown",
   "id": "373ed1db",
   "metadata": {},
   "source": [
    "# Exercise: Match the tarot cards!\n",
    "\n",
    "Given 2 decks of tarot cards, `deck1` and `deck2`, find all the matching pairs. The output should be a set of tuples `(idx1, idx2)` for every matching pair in `deck1`, `deck2`.\n",
    "\n",
    "For example:\n",
    "```\n",
    "deck1 = ['C', 'B', 'A']\n",
    "deck2 = ['A', 'C', 'B']\n",
    "```\n",
    "\n",
    "should return (in no particular order):\n",
    "\n",
    "```\n",
    "{(0, 1), (1, 2), (2, 0)}\n",
    "```\n",
    "\n",
    "1. Write an algorithm to match the tarot cards\n",
    "2. Compute the Big-O complexity of your algorithm\n"
   ]
  },
  {
   "cell_type": "code",
   "execution_count": 2,
   "id": "cf05b9c4",
   "metadata": {},
   "outputs": [
    {
     "name": "stdout",
     "output_type": "stream",
     "text": [
      "-- Deck 1: --\n",
      " ['The Lovers', 'Temperance', 'The Emperor', 'The Sun', 'The Fool', 'The Chariot', 'Death', 'Strength', 'Justice', 'The Star', 'Judgement', 'The World', 'The Tower', 'The Hanged Man', 'The Empress', 'The Hermit', 'The Devil', 'The High Priestess', 'The Moon', 'The Hierophant', 'Wheel of Fortune', 'The Magician']\n",
      "-- Deck 2: --\n",
      " ['The Fool', 'Death', 'The Hermit', 'Strength', 'The Moon', 'Wheel of Fortune', 'Judgement', 'The Lovers', 'The Star', 'The Hanged Man', 'The Empress', 'The Emperor', 'The Magician', 'The Tower', 'The Hierophant', 'The Chariot', 'The High Priestess', 'Temperance', 'The World', 'The Devil', 'The Sun', 'Justice']\n"
     ]
    }
   ],
   "source": [
    "import random\n",
    "\n",
    "# List of tarot card names (Major Arcana)\n",
    "tarot_cards = [\n",
    "    \"The Fool\", \"The Magician\", \"The High Priestess\", \"The Empress\", \"The Emperor\",\n",
    "    \"The Hierophant\", \"The Lovers\", \"The Chariot\", \"Strength\", \"The Hermit\",\n",
    "    \"Wheel of Fortune\", \"Justice\", \"The Hanged Man\", \"Death\", \"Temperance\",\n",
    "    \"The Devil\", \"The Tower\", \"The Star\", \"The Moon\", \"The Sun\", \"Judgement\",\n",
    "    \"The World\"\n",
    "]\n",
    "\n",
    "# Copy the list to create two separate decks\n",
    "deck1 = tarot_cards.copy()\n",
    "deck2 = tarot_cards.copy()\n",
    "\n",
    "# Shuffle both decks\n",
    "random.shuffle(deck1)\n",
    "random.shuffle(deck2)\n",
    "\n",
    "# Print the shuffled decks\n",
    "print(\"-- Deck 1: --\\n\", deck1)\n",
    "print(\"-- Deck 2: --\\n\", deck2)"
   ]
  },
  {
   "cell_type": "code",
   "execution_count": null,
   "id": "48eb31e2",
   "metadata": {},
   "outputs": [],
   "source": []
  },
  {
   "cell_type": "code",
   "execution_count": null,
   "id": "509dda71",
   "metadata": {},
   "outputs": [],
   "source": []
  }
 ],
 "metadata": {
  "kernelspec": {
   "display_name": "Python 3 (ipykernel)",
   "language": "python",
   "name": "python3"
  },
  "language_info": {
   "codemirror_mode": {
    "name": "ipython",
    "version": 3
   },
   "file_extension": ".py",
   "mimetype": "text/x-python",
   "name": "python",
   "nbconvert_exporter": "python",
   "pygments_lexer": "ipython3",
   "version": "3.11.3"
  }
 },
 "nbformat": 4,
 "nbformat_minor": 5
}
